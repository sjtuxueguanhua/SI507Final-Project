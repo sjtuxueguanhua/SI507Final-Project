{
 "cells": [
  {
   "cell_type": "code",
   "execution_count": 1,
   "id": "6a88b0f6",
   "metadata": {},
   "outputs": [],
   "source": [
    "from pyspark import SparkContext"
   ]
  },
  {
   "cell_type": "code",
   "execution_count": 2,
   "id": "559a3bae",
   "metadata": {},
   "outputs": [],
   "source": [
    "import pyspark.sql.functions as f\n",
    "from pyspark.sql.types import *\n",
    "from pyspark.sql.functions import *"
   ]
  },
  {
   "cell_type": "code",
   "execution_count": 3,
   "id": "db25025b",
   "metadata": {},
   "outputs": [],
   "source": [
    "saf=sqlContext.read.csv(\"./data/0.csv\",header=True)"
   ]
  },
  {
   "cell_type": "code",
   "execution_count": 4,
   "id": "0ebb1f4b",
   "metadata": {},
   "outputs": [
    {
     "name": "stdout",
     "output_type": "stream",
     "text": [
      "root\n",
      " |-- geoid: string (nullable = true)\n",
      " |-- name: string (nullable = true)\n",
      " |-- year: string (nullable = true)\n",
      " |-- total_est: string (nullable = true)\n",
      " |-- total_se: string (nullable = true)\n",
      "\n"
     ]
    }
   ],
   "source": [
    "saf.printSchema()"
   ]
  },
  {
   "cell_type": "code",
   "execution_count": 5,
   "id": "fa2f6382",
   "metadata": {},
   "outputs": [
    {
     "name": "stderr",
     "output_type": "stream",
     "text": [
      "/sw/pkgs/arc/spark/spark-3.2.1-bin-hadoop3.2/python/pyspark/sql/dataframe.py:138: FutureWarning: Deprecated in 2.0, use createOrReplaceTempView instead.\n",
      "  warnings.warn(\n"
     ]
    }
   ],
   "source": [
    "sqlContext.read.csv(\"./data/0.csv\",header=True).registerTempTable(\"zero\")"
   ]
  },
  {
   "cell_type": "code",
   "execution_count": 6,
   "id": "39b5eb32",
   "metadata": {},
   "outputs": [],
   "source": [
    "sqlContext.read.csv(\"./data/1.csv\",header=True).registerTempTable('One')"
   ]
  },
  {
   "cell_type": "code",
   "execution_count": 7,
   "id": "f2f23f43",
   "metadata": {},
   "outputs": [],
   "source": [
    "sqlContext.read.csv(\"./data/2.csv\",header=True).registerTempTable('Two')\n",
    "sqlContext.read.csv(\"./data/3.csv\",header=True).registerTempTable('Three')\n",
    "sqlContext.read.csv(\"./data/4.csv\",header=True).registerTempTable('Four')"
   ]
  },
  {
   "cell_type": "code",
   "execution_count": 8,
   "id": "4425ba2a",
   "metadata": {},
   "outputs": [],
   "source": [
    "# Deal with the txt file of the birth rate\n",
    "in3=sqlContext.read.csv(\"./data/birthrate.txt\",header=True,sep='\\t')"
   ]
  },
  {
   "cell_type": "code",
   "execution_count": 9,
   "id": "1c38a36a",
   "metadata": {},
   "outputs": [
    {
     "data": {
      "text/plain": [
       "['Notes',\n",
       " 'Year',\n",
       " 'YearCode',\n",
       " 'State',\n",
       " 'StateCode',\n",
       " 'Births',\n",
       " 'TotalPopulation',\n",
       " 'BirthRate']"
      ]
     },
     "execution_count": 9,
     "metadata": {},
     "output_type": "execute_result"
    }
   ],
   "source": [
    "in3.columns"
   ]
  },
  {
   "cell_type": "code",
   "execution_count": 10,
   "id": "a66c04ad",
   "metadata": {},
   "outputs": [
    {
     "name": "stdout",
     "output_type": "stream",
     "text": [
      "+-----+----+--------+----------+---------+------+---------------+---------+\n",
      "|Notes|Year|YearCode|     State|StateCode|Births|TotalPopulation|BirthRate|\n",
      "+-----+----+--------+----------+---------+------+---------------+---------+\n",
      "| null|2009|    2009|   Alabama|       01| 62475|        4757938|    13.13|\n",
      "| null|2009|    2009|    Alaska|       02| 11324|         698895|    16.20|\n",
      "| null|2009|    2009|   Arizona|       04| 92798|        6343154|    14.63|\n",
      "| null|2009|    2009|  Arkansas|       05| 39808|        2896843|    13.74|\n",
      "| null|2009|    2009|California|       06|527020|       36961229|    14.26|\n",
      "+-----+----+--------+----------+---------+------+---------------+---------+\n",
      "only showing top 5 rows\n",
      "\n"
     ]
    }
   ],
   "source": [
    "in3.show(5)"
   ]
  },
  {
   "cell_type": "code",
   "execution_count": 11,
   "id": "8cb451ed",
   "metadata": {},
   "outputs": [],
   "source": [
    "in3.registerTempTable('birth')"
   ]
  },
  {
   "cell_type": "code",
   "execution_count": 12,
   "id": "6662174c",
   "metadata": {},
   "outputs": [],
   "source": [
    "#Calculate the data for one or more cars\n"
   ]
  },
  {
   "cell_type": "code",
   "execution_count": 13,
   "id": "96a83955",
   "metadata": {},
   "outputs": [],
   "source": [
    "q1=sqlContext.sql(\"SELECT *, 100-total_est as 1orMore from zero \")"
   ]
  },
  {
   "cell_type": "code",
   "execution_count": 14,
   "id": "afa8a7a2",
   "metadata": {},
   "outputs": [
    {
     "name": "stdout",
     "output_type": "stream",
     "text": [
      "+---------+-------+----+---------+---------+-----------------+\n",
      "|    geoid|   name|year|total_est| total_se|          1orMore|\n",
      "+---------+-------+----+---------+---------+-----------------+\n",
      "|04000US01|Alabama|2009|6.3250961|.16840608|       93.6749039|\n",
      "|04000US01|Alabama|2010|6.5895853|.15879601|       93.4104147|\n",
      "|04000US01|Alabama|2011|6.3611312| .1781458|       93.6388688|\n",
      "|04000US01|Alabama|2012| 6.688168|   .15747|        93.311832|\n",
      "|04000US01|Alabama|2013|6.5363503|.16953626|       93.4636497|\n",
      "|04000US01|Alabama|2014|6.5472999|.16817892|       93.4527001|\n",
      "|04000US01|Alabama|2015|6.5908065|.16147067|       93.4091935|\n",
      "|04000US01|Alabama|2016|6.2311945|.16993542|       93.7688055|\n",
      "|04000US01|Alabama|2017|5.9334354|.16884352|       94.0665646|\n",
      "|04000US02| Alaska|2009| 9.685668|.45384088|90.31433200000001|\n",
      "|04000US02| Alaska|2010|10.403362|  .537247|        89.596638|\n",
      "|04000US02| Alaska|2011|9.6572495|.44409087|       90.3427505|\n",
      "|04000US02| Alaska|2012|9.5159569|.38176191|       90.4840431|\n",
      "|04000US02| Alaska|2013|9.7742004|.47759488|       90.2257996|\n",
      "|04000US02| Alaska|2014|8.6530027|.40250295|       91.3469973|\n",
      "|04000US02| Alaska|2015|10.327558|.41492268|        89.672442|\n",
      "|04000US02| Alaska|2016|9.3758554|.45507416|       90.6241446|\n",
      "|04000US02| Alaska|2017|10.026681|.51831692|        89.973319|\n",
      "|04000US04|Arizona|2009|6.7538919|.17533299|       93.2461081|\n",
      "|04000US04|Arizona|2010|6.8621492|.15882576|       93.1378508|\n",
      "+---------+-------+----+---------+---------+-----------------+\n",
      "only showing top 20 rows\n",
      "\n"
     ]
    }
   ],
   "source": [
    "q1.show()"
   ]
  },
  {
   "cell_type": "code",
   "execution_count": 15,
   "id": "1944117c",
   "metadata": {},
   "outputs": [],
   "source": [
    "q1.registerTempTable(\"0and1more\")"
   ]
  },
  {
   "cell_type": "code",
   "execution_count": 16,
   "id": "a7257732",
   "metadata": {},
   "outputs": [],
   "source": [
    "#Join all the car ownership together\n",
    "q2=sqlContext.sql('''\n",
    "select a.name,a.year,a.total_est as zero,b.total_est as one,a.1orMore, c.total_est as twoorMore,d.total_est as threeorMore,\n",
    "e.total_est as fourorMore\n",
    "FROM 0and1more a\n",
    "JOIN One b on (a.name=b.name and a.year=b.year) \n",
    "JOIN Two c on (a.name=c.name and a.year=c.year)\n",
    "JOIN Three d on (a.name=d.name and a.year=d.year) \n",
    "JOIN Four e  on (a.name=e.name and a.year=e.year) \n",
    "''')"
   ]
  },
  {
   "cell_type": "code",
   "execution_count": 17,
   "id": "f55ba270",
   "metadata": {},
   "outputs": [
    {
     "name": "stdout",
     "output_type": "stream",
     "text": [
      "+-------+----+---------+---------+----------+---------+-----------+----------+\n",
      "|   name|year|     zero|      one|   1orMore|twoorMore|threeorMore|fourorMore|\n",
      "+-------+----+---------+---------+----------+---------+-----------+----------+\n",
      "|Alabama|2009|6.3250961|32.935886|93.6749039|60.739017|  23.794041| 7.3752837|\n",
      "|Alabama|2010|6.5895853|32.708939|93.4104147|60.701473|  22.899515| 7.0476742|\n",
      "|Alabama|2011|6.3611312|32.870529|93.6388688|60.768341|   23.09083| 7.1225657|\n",
      "|Alabama|2012| 6.688168| 33.35326| 93.311832|59.958572|  23.136471| 7.3047509|\n",
      "|Alabama|2013|6.5363503|33.146679|93.4636497|60.316967|  23.454721|  7.159307|\n",
      "+-------+----+---------+---------+----------+---------+-----------+----------+\n",
      "only showing top 5 rows\n",
      "\n"
     ]
    }
   ],
   "source": [
    "q2.show(5)"
   ]
  },
  {
   "cell_type": "code",
   "execution_count": 18,
   "id": "50c2ef72",
   "metadata": {},
   "outputs": [],
   "source": [
    "q2.registerTempTable('car')"
   ]
  },
  {
   "cell_type": "code",
   "execution_count": 19,
   "id": "31e320ef",
   "metadata": {},
   "outputs": [],
   "source": [
    "#Join car and birth rate\n",
    "q3=sqlContext.sql('''select c.*,b.BirthRate\n",
    "from car c\n",
    "join birth b on (c.name=b.State and c.year=b.Year)''')"
   ]
  },
  {
   "cell_type": "code",
   "execution_count": 20,
   "id": "28fdf63a",
   "metadata": {},
   "outputs": [
    {
     "name": "stdout",
     "output_type": "stream",
     "text": [
      "+-------+----+---------+---------+----------+---------+-----------+----------+---------+\n",
      "|   name|year|     zero|      one|   1orMore|twoorMore|threeorMore|fourorMore|BirthRate|\n",
      "+-------+----+---------+---------+----------+---------+-----------+----------+---------+\n",
      "|Alabama|2009|6.3250961|32.935886|93.6749039|60.739017|  23.794041| 7.3752837|    13.13|\n",
      "|Alabama|2010|6.5895853|32.708939|93.4104147|60.701473|  22.899515| 7.0476742|    12.56|\n",
      "|Alabama|2011|6.3611312|32.870529|93.6388688|60.768341|   23.09083| 7.1225657|    12.36|\n",
      "|Alabama|2012| 6.688168| 33.35326| 93.311832|59.958572|  23.136471| 7.3047509|    12.12|\n",
      "|Alabama|2013|6.5363503|33.146679|93.4636497|60.316967|  23.454721|  7.159307|    12.03|\n",
      "+-------+----+---------+---------+----------+---------+-----------+----------+---------+\n",
      "only showing top 5 rows\n",
      "\n"
     ]
    }
   ],
   "source": [
    "q3.show(5)"
   ]
  },
  {
   "cell_type": "code",
   "execution_count": 21,
   "id": "ee144e60",
   "metadata": {},
   "outputs": [],
   "source": [
    "q3.registerTempTable('carbirth')"
   ]
  },
  {
   "cell_type": "code",
   "execution_count": 22,
   "id": "2f0174e5",
   "metadata": {},
   "outputs": [],
   "source": [
    "#Calculate the average data of carbirth \n",
    "q4=sqlContext.sql('''select name,\n",
    "round(avg(BirthRate),2) as avgBirthRate,\n",
    "round(avg(zero),2) as avgzero,\n",
    "round(avg(one),2) as avgone,\n",
    "round(avg(1orMore),2) as avg1orMore,\n",
    "round(avg(twoorMore),2) as avgtwoorMore,\n",
    "round(avg(threeorMore),2) as avgthreeorMore,\n",
    "round(avg(fourorMore),2) as avgfourorMore\n",
    "\n",
    "\n",
    "from carbirth group by  name\n",
    "order by avgBirthRate desc''')"
   ]
  },
  {
   "cell_type": "code",
   "execution_count": 23,
   "id": "2980aa96",
   "metadata": {},
   "outputs": [
    {
     "name": "stdout",
     "output_type": "stream",
     "text": [
      "+--------------------+------------+-------+------+----------+------------+--------------+-------------+\n",
      "|                name|avgBirthRate|avgzero|avgone|avg1orMore|avgtwoorMore|avgthreeorMore|avgfourorMore|\n",
      "+--------------------+------------+-------+------+----------+------------+--------------+-------------+\n",
      "|                Utah|       17.67|   4.38|  25.6|     95.62|       70.02|         28.36|         9.79|\n",
      "|              Alaska|       15.45|   9.71| 31.02|     90.29|       59.27|         21.51|         6.83|\n",
      "|               Texas|       14.77|   5.76| 34.13|     94.24|       60.11|         19.87|         5.56|\n",
      "|District of Columbia|       14.63|  36.32| 44.21|     63.68|       19.47|          3.73|         0.88|\n",
      "|        North Dakota|        14.4|   5.18| 29.08|     94.82|       65.73|         27.61|         10.3|\n",
      "+--------------------+------------+-------+------+----------+------------+--------------+-------------+\n",
      "only showing top 5 rows\n",
      "\n"
     ]
    }
   ],
   "source": [
    "q4.show(5)"
   ]
  },
  {
   "cell_type": "code",
   "execution_count": 25,
   "id": "217c2862",
   "metadata": {},
   "outputs": [],
   "source": [
    "q4.registerTempTable(\"avg\")\n",
    "#savefiles\n",
    "q3.rdd.map(lambda i:\",\".join(str(j) for j in i)).saveAsTextFile('./carbirth.csv')\n",
    "q4.rdd.map(lambda i:\",\".join(str(j) for j in i)).saveAsTextFile('./avgcarbirth.csv')"
   ]
  },
  {
   "cell_type": "code",
   "execution_count": null,
   "id": "134f15b4",
   "metadata": {},
   "outputs": [],
   "source": []
  }
 ],
 "metadata": {
  "kernelspec": {
   "display_name": "Python 3",
   "language": "python",
   "name": "python3"
  },
  "language_info": {
   "codemirror_mode": {
    "name": "ipython",
    "version": 3
   },
   "file_extension": ".py",
   "mimetype": "text/x-python",
   "name": "python",
   "nbconvert_exporter": "python",
   "pygments_lexer": "ipython3",
   "version": "3.10.7 (tags/v3.10.7:6cc6b13, Sep  5 2022, 14:08:36) [MSC v.1933 64 bit (AMD64)]"
  },
  "vscode": {
   "interpreter": {
    "hash": "ba37d69516b96b2df66115ef342e83722e1a1518f5d2e0ee41eb08141fa2fe2a"
   }
  }
 },
 "nbformat": 4,
 "nbformat_minor": 5
}
